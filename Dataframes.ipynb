{
 "cells": [
  {
   "cell_type": "markdown",
   "id": "f68518df",
   "metadata": {},
   "source": [
    "**A DataFrame** is a two-dimensional, tabular data structure\n",
    "in pandas, similar to a spreadsheet or SQL table.\n",
    "It consists of:\n",
    "Rows, Columns & Indexes.\n",
    "\n",
    "### Key Features:\n",
    "1. Columns are labeled, and rows have an index. An index can be numeric or a custom label. \n",
    "2. Heterogenous data. Different columns can store different data types.\n",
    "3. Filtering, groupiing, joining and reshaping data are supported.\n",
    "\n"
   ]
  },
  {
   "cell_type": "code",
   "execution_count": 1,
   "id": "3a76f454",
   "metadata": {},
   "outputs": [],
   "source": [
    "import pandas as pd"
   ]
  },
  {
   "cell_type": "markdown",
   "id": "0588ee07",
   "metadata": {},
   "source": [
    "### DataFrames can be created in a few ways:\n",
    "\n",
    "From a Dictionary "
   ]
  },
  {
   "cell_type": "code",
   "execution_count": 2,
   "id": "d8975b92",
   "metadata": {},
   "outputs": [
    {
     "name": "stdout",
     "output_type": "stream",
     "text": [
      "      Name  Age         City\n",
      "0    Alice   25     New York\n",
      "1      Bob   30  Los Angeles\n",
      "2  Charlie   35      Chicago\n"
     ]
    }
   ],
   "source": [
    "data = {\n",
    "    \"Name\": [\"Alice\", \"Bob\", \"Charlie\"],\n",
    "    \"Age\": [25, 30, 35],\n",
    "    \"City\": [\"New York\", \"Los Angeles\", \"Chicago\"]\n",
    "}\n",
    "df = pd.DataFrame(data)\n",
    "print(df)"
   ]
  },
  {
   "cell_type": "markdown",
   "id": "dabdb291",
   "metadata": {},
   "source": [
    "From a List of Dictonaries"
   ]
  },
  {
   "cell_type": "code",
   "execution_count": 3,
   "id": "6543c64d",
   "metadata": {},
   "outputs": [
    {
     "name": "stdout",
     "output_type": "stream",
     "text": [
      "      Name  Age         City\n",
      "0    Alice   25     New York\n",
      "1      Bob   30  Los Angeles\n",
      "2  Charlie   35      Chicago\n"
     ]
    }
   ],
   "source": [
    "data = [\n",
    "    {\"Name\": \"Alice\", \"Age\": 25, \"City\": \"New York\"},\n",
    "    {\"Name\": \"Bob\", \"Age\": 30, \"City\": \"Los Angeles\"},\n",
    "    {\"Name\": \"Charlie\", \"Age\": 35, \"City\": \"Chicago\"}\n",
    "]\n",
    "df = pd.DataFrame(data)\n",
    "print(df)"
   ]
  },
  {
   "cell_type": "markdown",
   "id": "fa37a101",
   "metadata": {},
   "source": [
    "List of Lists with Column Names"
   ]
  },
  {
   "cell_type": "code",
   "execution_count": 13,
   "id": "3efe5ffa",
   "metadata": {},
   "outputs": [
    {
     "name": "stdout",
     "output_type": "stream",
     "text": [
      "   A  B  C\n",
      "0  1  2  3\n",
      "1  4  5  6\n",
      "2  7  8  9\n"
     ]
    }
   ],
   "source": [
    "data = [[1, 2, 3], [4, 5, 6], [7, 8, 9]]\n",
    "df = pd.DataFrame(data, columns=[\"A\", \"B\", \"C\"])\n",
    "print(df)"
   ]
  },
  {
   "cell_type": "markdown",
   "id": "1e8b3144",
   "metadata": {},
   "source": [
    "CSV or Excel File\n",
    "(xlsx files require pip install openpyxl)"
   ]
  },
  {
   "cell_type": "code",
   "execution_count": 9,
   "id": "191e5fbe",
   "metadata": {},
   "outputs": [
    {
     "name": "stdout",
     "output_type": "stream",
     "text": [
      "   A  B  C\n",
      "0  1  2  3\n",
      "1  4  5  6\n",
      "2  7  8  9\n",
      "   A  B  C\n",
      "0  1  2  3\n",
      "1  4  5  6\n",
      "2  7  8  9\n"
     ]
    }
   ],
   "source": [
    "# From a CSV file\n",
    "df_csv = pd.read_csv(\"data.csv\")\n",
    "print(df_csv)\n",
    "\n",
    "# From an Excel file\n",
    "df_xlsx = pd.read_excel(\"data.xlsx\")\n",
    "print(df_xlsx)"
   ]
  },
  {
   "cell_type": "markdown",
   "id": "9ce9d26d",
   "metadata": {},
   "source": [
    "Inspecting the dataframe"
   ]
  },
  {
   "cell_type": "code",
   "execution_count": 15,
   "id": "792f5875",
   "metadata": {},
   "outputs": [
    {
     "name": "stdout",
     "output_type": "stream",
     "text": [
      "   A  B  C\n",
      "0  1  2  3\n",
      "1  4  5  6\n",
      "2  7  8  9\n"
     ]
    }
   ],
   "source": [
    "print(df.head()) #First 5 rows by default"
   ]
  },
  {
   "cell_type": "code",
   "execution_count": 16,
   "id": "5ba48634",
   "metadata": {},
   "outputs": [
    {
     "name": "stdout",
     "output_type": "stream",
     "text": [
      "<class 'pandas.core.frame.DataFrame'>\n",
      "RangeIndex: 3 entries, 0 to 2\n",
      "Data columns (total 3 columns):\n",
      " #   Column  Non-Null Count  Dtype\n",
      "---  ------  --------------  -----\n",
      " 0   A       3 non-null      int64\n",
      " 1   B       3 non-null      int64\n",
      " 2   C       3 non-null      int64\n",
      "dtypes: int64(3)\n",
      "memory usage: 204.0 bytes\n",
      "None\n"
     ]
    }
   ],
   "source": [
    "print(df.info())"
   ]
  },
  {
   "cell_type": "code",
   "execution_count": 17,
   "id": "d1ebb82f",
   "metadata": {},
   "outputs": [
    {
     "name": "stdout",
     "output_type": "stream",
     "text": [
      "         A    B    C\n",
      "count  3.0  3.0  3.0\n",
      "mean   4.0  5.0  6.0\n",
      "std    3.0  3.0  3.0\n",
      "min    1.0  2.0  3.0\n",
      "25%    2.5  3.5  4.5\n",
      "50%    4.0  5.0  6.0\n",
      "75%    5.5  6.5  7.5\n",
      "max    7.0  8.0  9.0\n"
     ]
    }
   ],
   "source": [
    "print(df.describe())"
   ]
  },
  {
   "cell_type": "markdown",
   "id": "e9895ee6",
   "metadata": {},
   "source": [
    "Accessing Data"
   ]
  },
  {
   "cell_type": "code",
   "execution_count": 19,
   "id": "59879f30",
   "metadata": {},
   "outputs": [
    {
     "name": "stdout",
     "output_type": "stream",
     "text": [
      "0    2\n",
      "1    5\n",
      "2    8\n",
      "Name: B, dtype: int64\n"
     ]
    }
   ],
   "source": [
    "print(df[\"B\"])"
   ]
  },
  {
   "cell_type": "code",
   "execution_count": 20,
   "id": "530c76ec",
   "metadata": {},
   "outputs": [
    {
     "name": "stdout",
     "output_type": "stream",
     "text": [
      "   B  A\n",
      "0  2  1\n",
      "1  5  4\n",
      "2  8  7\n"
     ]
    }
   ],
   "source": [
    "print(df[[\"B\", \"A\"]])"
   ]
  },
  {
   "cell_type": "code",
   "execution_count": 24,
   "id": "cbeb9349",
   "metadata": {},
   "outputs": [
    {
     "name": "stdout",
     "output_type": "stream",
     "text": [
      "A    1\n",
      "B    2\n",
      "C    3\n",
      "Name: 0, dtype: int64\n"
     ]
    }
   ],
   "source": [
    "# Row by index\n",
    "print(df.iloc[0]) # First row"
   ]
  },
  {
   "cell_type": "code",
   "execution_count": null,
   "id": "5c1bd9fd",
   "metadata": {},
   "outputs": [
    {
     "name": "stdout",
     "output_type": "stream",
     "text": [
      "A    1\n",
      "B    2\n",
      "C    3\n",
      "Name: 0, dtype: int64\n"
     ]
    }
   ],
   "source": [
    "# Row by label\n",
    "print(df.loc[0]) # Same as above, since label is numeric."
   ]
  },
  {
   "cell_type": "code",
   "execution_count": null,
   "id": "8abce284",
   "metadata": {},
   "outputs": [],
   "source": []
  }
 ],
 "metadata": {
  "kernelspec": {
   "display_name": "Python 3",
   "language": "python",
   "name": "python3"
  },
  "language_info": {
   "codemirror_mode": {
    "name": "ipython",
    "version": 3
   },
   "file_extension": ".py",
   "mimetype": "text/x-python",
   "name": "python",
   "nbconvert_exporter": "python",
   "pygments_lexer": "ipython3",
   "version": "3.13.3"
  }
 },
 "nbformat": 4,
 "nbformat_minor": 5
}
