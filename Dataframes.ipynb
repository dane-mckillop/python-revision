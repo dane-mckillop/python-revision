{
 "cells": [
  {
   "cell_type": "markdown",
   "id": "f68518df",
   "metadata": {},
   "source": [
    "**A DataFrame** is a two-dimensional, tabular data structure\n",
    "in pandas, similar to a spreadsheet or SQL table.\n",
    "It consists of:\n",
    "Rows, Columns & Indexes.\n",
    "\n",
    "### Key Features:\n",
    "1. Columns are labeled, and rows have an index. An index can be numeric or a custom label. \n",
    "2. Heterogenous data. Different columns can store different data types.\n",
    "3. Filtering, groupiing, joining and reshaping data are supported.\n",
    "\n"
   ]
  },
  {
   "cell_type": "code",
   "execution_count": 1,
   "id": "3a76f454",
   "metadata": {},
   "outputs": [],
   "source": [
    "import pandas as pd"
   ]
  },
  {
   "cell_type": "markdown",
   "id": "0588ee07",
   "metadata": {},
   "source": [
    "### DataFrames can be created in a few ways:\n",
    "\n",
    "From a Dictionary "
   ]
  },
  {
   "cell_type": "code",
   "execution_count": 2,
   "id": "d8975b92",
   "metadata": {},
   "outputs": [
    {
     "name": "stdout",
     "output_type": "stream",
     "text": [
      "      Name  Age         City\n",
      "0    Alice   25     New York\n",
      "1      Bob   30  Los Angeles\n",
      "2  Charlie   35      Chicago\n"
     ]
    }
   ],
   "source": [
    "data = {\n",
    "    \"Name\": [\"Alice\", \"Bob\", \"Charlie\"],\n",
    "    \"Age\": [25, 30, 35],\n",
    "    \"City\": [\"New York\", \"Los Angeles\", \"Chicago\"]\n",
    "}\n",
    "df = pd.DataFrame(data)\n",
    "print(df)"
   ]
  },
  {
   "cell_type": "markdown",
   "id": "dabdb291",
   "metadata": {},
   "source": [
    "From a List of Dictonaries"
   ]
  },
  {
   "cell_type": "code",
   "execution_count": 3,
   "id": "6543c64d",
   "metadata": {},
   "outputs": [
    {
     "name": "stdout",
     "output_type": "stream",
     "text": [
      "      Name  Age         City\n",
      "0    Alice   25     New York\n",
      "1      Bob   30  Los Angeles\n",
      "2  Charlie   35      Chicago\n"
     ]
    }
   ],
   "source": [
    "data = [\n",
    "    {\"Name\": \"Alice\", \"Age\": 25, \"City\": \"New York\"},\n",
    "    {\"Name\": \"Bob\", \"Age\": 30, \"City\": \"Los Angeles\"},\n",
    "    {\"Name\": \"Charlie\", \"Age\": 35, \"City\": \"Chicago\"}\n",
    "]\n",
    "df = pd.DataFrame(data)\n",
    "print(df)"
   ]
  },
  {
   "cell_type": "markdown",
   "id": "fa37a101",
   "metadata": {},
   "source": [
    "List of Lists with Column Names"
   ]
  },
  {
   "cell_type": "code",
   "execution_count": 13,
   "id": "3efe5ffa",
   "metadata": {},
   "outputs": [
    {
     "name": "stdout",
     "output_type": "stream",
     "text": [
      "   A  B  C\n",
      "0  1  2  3\n",
      "1  4  5  6\n",
      "2  7  8  9\n"
     ]
    }
   ],
   "source": [
    "data = [[1, 2, 3], [4, 5, 6], [7, 8, 9]]\n",
    "df = pd.DataFrame(data, columns=[\"A\", \"B\", \"C\"])\n",
    "print(df)"
   ]
  },
  {
   "cell_type": "markdown",
   "id": "1e8b3144",
   "metadata": {},
   "source": [
    "CSV or Excel File\n",
    "(xlsx files require pip install openpyxl)"
   ]
  },
  {
   "cell_type": "code",
   "execution_count": 9,
   "id": "191e5fbe",
   "metadata": {},
   "outputs": [
    {
     "name": "stdout",
     "output_type": "stream",
     "text": [
      "   A  B  C\n",
      "0  1  2  3\n",
      "1  4  5  6\n",
      "2  7  8  9\n",
      "   A  B  C\n",
      "0  1  2  3\n",
      "1  4  5  6\n",
      "2  7  8  9\n"
     ]
    }
   ],
   "source": [
    "# From a CSV file\n",
    "df_csv = pd.read_csv(\"data.csv\")\n",
    "print(df_csv)\n",
    "\n",
    "# From an Excel file\n",
    "df_xlsx = pd.read_excel(\"data.xlsx\")\n",
    "print(df_xlsx)"
   ]
  },
  {
   "cell_type": "markdown",
   "id": "9ce9d26d",
   "metadata": {},
   "source": [
    "Inspecting the dataframe"
   ]
  },
  {
   "cell_type": "code",
   "execution_count": 15,
   "id": "792f5875",
   "metadata": {},
   "outputs": [
    {
     "name": "stdout",
     "output_type": "stream",
     "text": [
      "   A  B  C\n",
      "0  1  2  3\n",
      "1  4  5  6\n",
      "2  7  8  9\n"
     ]
    }
   ],
   "source": [
    "print(df.head()) #First 5 rows by default"
   ]
  },
  {
   "cell_type": "code",
   "execution_count": 16,
   "id": "5ba48634",
   "metadata": {},
   "outputs": [
    {
     "name": "stdout",
     "output_type": "stream",
     "text": [
      "<class 'pandas.core.frame.DataFrame'>\n",
      "RangeIndex: 3 entries, 0 to 2\n",
      "Data columns (total 3 columns):\n",
      " #   Column  Non-Null Count  Dtype\n",
      "---  ------  --------------  -----\n",
      " 0   A       3 non-null      int64\n",
      " 1   B       3 non-null      int64\n",
      " 2   C       3 non-null      int64\n",
      "dtypes: int64(3)\n",
      "memory usage: 204.0 bytes\n",
      "None\n"
     ]
    }
   ],
   "source": [
    "print(df.info())"
   ]
  },
  {
   "cell_type": "code",
   "execution_count": 17,
   "id": "d1ebb82f",
   "metadata": {},
   "outputs": [
    {
     "name": "stdout",
     "output_type": "stream",
     "text": [
      "         A    B    C\n",
      "count  3.0  3.0  3.0\n",
      "mean   4.0  5.0  6.0\n",
      "std    3.0  3.0  3.0\n",
      "min    1.0  2.0  3.0\n",
      "25%    2.5  3.5  4.5\n",
      "50%    4.0  5.0  6.0\n",
      "75%    5.5  6.5  7.5\n",
      "max    7.0  8.0  9.0\n"
     ]
    }
   ],
   "source": [
    "print(df.describe())"
   ]
  },
  {
   "cell_type": "markdown",
   "id": "e9895ee6",
   "metadata": {},
   "source": [
    "Accessing Data"
   ]
  },
  {
   "cell_type": "code",
   "execution_count": 19,
   "id": "59879f30",
   "metadata": {},
   "outputs": [
    {
     "name": "stdout",
     "output_type": "stream",
     "text": [
      "0    2\n",
      "1    5\n",
      "2    8\n",
      "Name: B, dtype: int64\n"
     ]
    }
   ],
   "source": [
    "print(df[\"B\"])"
   ]
  },
  {
   "cell_type": "code",
   "execution_count": 20,
   "id": "530c76ec",
   "metadata": {},
   "outputs": [
    {
     "name": "stdout",
     "output_type": "stream",
     "text": [
      "   B  A\n",
      "0  2  1\n",
      "1  5  4\n",
      "2  8  7\n"
     ]
    }
   ],
   "source": [
    "print(df[[\"B\", \"A\"]])"
   ]
  },
  {
   "cell_type": "markdown",
   "id": "2d23bfa4",
   "metadata": {},
   "source": [
    "Row by index"
   ]
  },
  {
   "cell_type": "code",
   "execution_count": 31,
   "id": "cbeb9349",
   "metadata": {},
   "outputs": [
    {
     "name": "stdout",
     "output_type": "stream",
     "text": [
      "A    1\n",
      "B    2\n",
      "C    3\n",
      "Name: 0, dtype: int64\n"
     ]
    }
   ],
   "source": [
    "print(df.iloc[0]) # First row"
   ]
  },
  {
   "cell_type": "markdown",
   "id": "b57b2b3d",
   "metadata": {},
   "source": [
    "Row by label"
   ]
  },
  {
   "cell_type": "code",
   "execution_count": 32,
   "id": "5c1bd9fd",
   "metadata": {},
   "outputs": [
    {
     "name": "stdout",
     "output_type": "stream",
     "text": [
      "A    1\n",
      "B    2\n",
      "C    3\n",
      "Name: 0, dtype: int64\n"
     ]
    }
   ],
   "source": [
    "print(df.loc[0]) # Same as above, since label is numeric."
   ]
  },
  {
   "cell_type": "markdown",
   "id": "5b008718",
   "metadata": {},
   "source": [
    "### Filtering\n",
    "Find rows where A > 3"
   ]
  },
  {
   "cell_type": "code",
   "execution_count": 33,
   "id": "8abce284",
   "metadata": {},
   "outputs": [
    {
     "name": "stdout",
     "output_type": "stream",
     "text": [
      "   A  B  C\n",
      "1  4  5  6\n",
      "2  7  8  9\n"
     ]
    }
   ],
   "source": [
    "print(df[df[\"A\"] > 3])"
   ]
  },
  {
   "cell_type": "markdown",
   "id": "2da14b37",
   "metadata": {},
   "source": [
    "Adding a new column"
   ]
  },
  {
   "cell_type": "code",
   "execution_count": 35,
   "id": "11e864c5",
   "metadata": {},
   "outputs": [
    {
     "name": "stdout",
     "output_type": "stream",
     "text": [
      "   A  B  C      D\n",
      "0  1  2  3  False\n",
      "1  4  5  6  False\n",
      "2  7  8  9  False\n"
     ]
    }
   ],
   "source": [
    "df[\"D\"] = False  # Setting a default value\n",
    "print(df)"
   ]
  },
  {
   "cell_type": "markdown",
   "id": "04232053",
   "metadata": {},
   "source": [
    "Modifying data"
   ]
  },
  {
   "cell_type": "code",
   "execution_count": 36,
   "id": "425737c3",
   "metadata": {},
   "outputs": [
    {
     "name": "stdout",
     "output_type": "stream",
     "text": [
      "   A  B  C      D\n",
      "0  1  2  3  False\n",
      "1  4  5  6   True\n",
      "2  7  8  9  False\n"
     ]
    }
   ],
   "source": [
    "df.loc[df[\"B\"] == 5, \"D\"] = True\n",
    "print(df)"
   ]
  },
  {
   "cell_type": "markdown",
   "id": "ceaad41b",
   "metadata": {},
   "source": [
    "Dropping a column or row"
   ]
  },
  {
   "cell_type": "code",
   "execution_count": 37,
   "id": "bae77c3f",
   "metadata": {},
   "outputs": [
    {
     "name": "stdout",
     "output_type": "stream",
     "text": [
      "   A  B  C\n",
      "0  1  2  3\n",
      "1  4  5  6\n",
      "2  7  8  9\n"
     ]
    }
   ],
   "source": [
    "df = df.drop(\"D\", axis = 1) # axis=1 for columns\n",
    "print(df)"
   ]
  },
  {
   "cell_type": "markdown",
   "id": "ff6fe0a4",
   "metadata": {},
   "source": [
    "### Advanced Operations"
   ]
  },
  {
   "cell_type": "markdown",
   "id": "35698d9b",
   "metadata": {},
   "source": [
    "Grouping and aggregation."
   ]
  },
  {
   "cell_type": "code",
   "execution_count": 38,
   "id": "3d767d6b",
   "metadata": {},
   "outputs": [
    {
     "name": "stdout",
     "output_type": "stream",
     "text": [
      "City\n",
      "Chicago        28.0\n",
      "Los Angeles    30.0\n",
      "New York       30.0\n",
      "Name: Age, dtype: float64\n"
     ]
    }
   ],
   "source": [
    "data = {\n",
    "    \"City\": [\"New York\", \"Los Angeles\", \"New York\", \"Chicago\"],\n",
    "    \"Age\": [25, 30, 35, 28]\n",
    "}\n",
    "df = pd.DataFrame(data)\n",
    "print(df.groupby(\"City\")[\"Age\"].mean())"
   ]
  },
  {
   "cell_type": "markdown",
   "id": "01aab0d4",
   "metadata": {},
   "source": [
    "Merging DataFrames"
   ]
  },
  {
   "cell_type": "code",
   "execution_count": 39,
   "id": "93e38b61",
   "metadata": {},
   "outputs": [
    {
     "name": "stdout",
     "output_type": "stream",
     "text": [
      "    Name  Age         City\n",
      "0  Alice   25     New York\n",
      "1    Bob   30  Los Angeles\n"
     ]
    }
   ],
   "source": [
    "df1 = pd.DataFrame({\"Name\": [\"Alice\", \"Bob\"], \"Age\": [25, 30]})\n",
    "df2 = pd.DataFrame({\"Name\": [\"Alice\", \"Bob\"], \"City\": [\"New York\", \"Los Angeles\"]})\n",
    "merged_df = pd.merge(df1, df2, on=\"Name\")\n",
    "print(merged_df)"
   ]
  },
  {
   "cell_type": "markdown",
   "id": "7823e57b",
   "metadata": {},
   "source": [
    "Handling Missing Data.\n",
    "Useful for cleaning/normalizing NaN values."
   ]
  },
  {
   "cell_type": "code",
   "execution_count": 40,
   "id": "b67a2ce7",
   "metadata": {},
   "outputs": [
    {
     "data": {
      "text/html": [
       "<div>\n",
       "<style scoped>\n",
       "    .dataframe tbody tr th:only-of-type {\n",
       "        vertical-align: middle;\n",
       "    }\n",
       "\n",
       "    .dataframe tbody tr th {\n",
       "        vertical-align: top;\n",
       "    }\n",
       "\n",
       "    .dataframe thead th {\n",
       "        text-align: right;\n",
       "    }\n",
       "</style>\n",
       "<table border=\"1\" class=\"dataframe\">\n",
       "  <thead>\n",
       "    <tr style=\"text-align: right;\">\n",
       "      <th></th>\n",
       "      <th>City</th>\n",
       "      <th>Age</th>\n",
       "    </tr>\n",
       "  </thead>\n",
       "  <tbody>\n",
       "    <tr>\n",
       "      <th>0</th>\n",
       "      <td>New York</td>\n",
       "      <td>25</td>\n",
       "    </tr>\n",
       "    <tr>\n",
       "      <th>1</th>\n",
       "      <td>Los Angeles</td>\n",
       "      <td>30</td>\n",
       "    </tr>\n",
       "    <tr>\n",
       "      <th>2</th>\n",
       "      <td>New York</td>\n",
       "      <td>35</td>\n",
       "    </tr>\n",
       "    <tr>\n",
       "      <th>3</th>\n",
       "      <td>Chicago</td>\n",
       "      <td>28</td>\n",
       "    </tr>\n",
       "  </tbody>\n",
       "</table>\n",
       "</div>"
      ],
      "text/plain": [
       "          City  Age\n",
       "0     New York   25\n",
       "1  Los Angeles   30\n",
       "2     New York   35\n",
       "3      Chicago   28"
      ]
     },
     "execution_count": 40,
     "metadata": {},
     "output_type": "execute_result"
    }
   ],
   "source": [
    "df.dropna()  # Drops rows with any NaN"
   ]
  },
  {
   "cell_type": "code",
   "execution_count": 41,
   "id": "08a380e6",
   "metadata": {},
   "outputs": [
    {
     "data": {
      "text/html": [
       "<div>\n",
       "<style scoped>\n",
       "    .dataframe tbody tr th:only-of-type {\n",
       "        vertical-align: middle;\n",
       "    }\n",
       "\n",
       "    .dataframe tbody tr th {\n",
       "        vertical-align: top;\n",
       "    }\n",
       "\n",
       "    .dataframe thead th {\n",
       "        text-align: right;\n",
       "    }\n",
       "</style>\n",
       "<table border=\"1\" class=\"dataframe\">\n",
       "  <thead>\n",
       "    <tr style=\"text-align: right;\">\n",
       "      <th></th>\n",
       "      <th>City</th>\n",
       "      <th>Age</th>\n",
       "    </tr>\n",
       "  </thead>\n",
       "  <tbody>\n",
       "    <tr>\n",
       "      <th>0</th>\n",
       "      <td>New York</td>\n",
       "      <td>25</td>\n",
       "    </tr>\n",
       "    <tr>\n",
       "      <th>1</th>\n",
       "      <td>Los Angeles</td>\n",
       "      <td>30</td>\n",
       "    </tr>\n",
       "    <tr>\n",
       "      <th>2</th>\n",
       "      <td>New York</td>\n",
       "      <td>35</td>\n",
       "    </tr>\n",
       "    <tr>\n",
       "      <th>3</th>\n",
       "      <td>Chicago</td>\n",
       "      <td>28</td>\n",
       "    </tr>\n",
       "  </tbody>\n",
       "</table>\n",
       "</div>"
      ],
      "text/plain": [
       "          City  Age\n",
       "0     New York   25\n",
       "1  Los Angeles   30\n",
       "2     New York   35\n",
       "3      Chicago   28"
      ]
     },
     "execution_count": 41,
     "metadata": {},
     "output_type": "execute_result"
    }
   ],
   "source": [
    "df.fillna(0)  # Replaces NaN with 0"
   ]
  },
  {
   "cell_type": "markdown",
   "id": "9c553c9d",
   "metadata": {},
   "source": [
    "List Comprehensions can be used with DataFrames to create or manipulate data."
   ]
  },
  {
   "cell_type": "code",
   "execution_count": 42,
   "id": "5b21317a",
   "metadata": {},
   "outputs": [
    {
     "name": "stdout",
     "output_type": "stream",
     "text": [
      "          City  Age  Is_Senior\n",
      "0     New York   25      False\n",
      "1  Los Angeles   30      False\n",
      "2     New York   35       True\n",
      "3      Chicago   28      False\n"
     ]
    }
   ],
   "source": [
    "# Create a new column based on a condition\n",
    "df[\"Is_Senior\"] = [True if age > 30 else False for age in df[\"Age\"]]\n",
    "print(df)"
   ]
  },
  {
   "cell_type": "markdown",
   "id": "bc385fb8",
   "metadata": {},
   "source": [
    "### Reshaping\n",
    "Involves operations like pivoting, melting, stacking or unstacking to change the shape of the data."
   ]
  },
  {
   "cell_type": "markdown",
   "id": "dac0cda8",
   "metadata": {},
   "source": [
    "Pivoting (pivot and pivot_table)<br>\n",
    "Spreads rows into columns based on a column's unique values, creating a new table with one column's values as the new columns."
   ]
  },
  {
   "cell_type": "code",
   "execution_count": 43,
   "id": "e618805c",
   "metadata": {},
   "outputs": [
    {
     "name": "stdout",
     "output_type": "stream",
     "text": [
      "City      LA   NY\n",
      "Date             \n",
      "2023-01  150  100\n",
      "2023-02  250  200\n"
     ]
    }
   ],
   "source": [
    "import pandas as pd\n",
    "\n",
    "df = pd.DataFrame({\n",
    "    \"Date\": [\"2023-01\", \"2023-01\", \"2023-02\", \"2023-02\"],\n",
    "    \"City\": [\"NY\", \"LA\", \"NY\", \"LA\"],\n",
    "    \"Sales\": [100, 150, 200, 250]\n",
    "})\n",
    "pivoted = df.pivot(index=\"Date\", columns=\"City\", values=\"Sales\")\n",
    "print(pivoted)"
   ]
  },
  {
   "cell_type": "markdown",
   "id": "3055e452",
   "metadata": {},
   "source": [
    "Use pivot_table instead of pivot if you need aggregation."
   ]
  },
  {
   "cell_type": "code",
   "execution_count": 45,
   "id": "67f14d3a",
   "metadata": {},
   "outputs": [
    {
     "name": "stdout",
     "output_type": "stream",
     "text": [
      "City        LA     NY\n",
      "Date                 \n",
      "2023-01  150.0  100.0\n",
      "2023-02  250.0  200.0\n"
     ]
    }
   ],
   "source": [
    "pivoted = df.pivot_table(index=\"Date\", columns=\"City\", values=\"Sales\", aggfunc=\"mean\")\n",
    "print(pivoted)"
   ]
  },
  {
   "cell_type": "markdown",
   "id": "51a3b738",
   "metadata": {},
   "source": [
    "Melting (melt)<br>\n",
    "Converts a \"wide\" DataFrame into a \"long\" format by turning columns into rows."
   ]
  },
  {
   "cell_type": "code",
   "execution_count": 46,
   "id": "e3f078a9",
   "metadata": {},
   "outputs": [
    {
     "name": "stdout",
     "output_type": "stream",
     "text": [
      "      Date City  Sales\n",
      "0  2023-01   NY    100\n",
      "1  2023-02   NY    200\n",
      "2  2023-01   LA    150\n",
      "3  2023-02   LA    250\n"
     ]
    }
   ],
   "source": [
    "df = pd.DataFrame({\n",
    "    \"Date\": [\"2023-01\", \"2023-02\"],\n",
    "    \"NY\": [100, 200],\n",
    "    \"LA\": [150, 250]\n",
    "})\n",
    "melted = pd.melt(df, id_vars=[\"Date\"], value_vars=[\"NY\", \"LA\"], var_name=\"City\", value_name=\"Sales\")\n",
    "print(melted)"
   ]
  },
  {
   "cell_type": "markdown",
   "id": "91022cdb",
   "metadata": {},
   "source": [
    "Stacking and Unstacking (stack and unstack)<br>\n",
    "Reshape by moving row or colun indicies to the other axis, often for hierarchical (multi-index) DataFrames."
   ]
  },
  {
   "cell_type": "code",
   "execution_count": 47,
   "id": "d8d08adc",
   "metadata": {},
   "outputs": [
    {
     "name": "stdout",
     "output_type": "stream",
     "text": [
      "2023-01  NY    100\n",
      "         LA    150\n",
      "2023-02  NY    200\n",
      "         LA    250\n",
      "dtype: int64\n"
     ]
    }
   ],
   "source": [
    "df = pd.DataFrame({\n",
    "    \"NY\": [100, 200],\n",
    "    \"LA\": [150, 250]\n",
    "}, index=[\"2023-01\", \"2023-02\"])\n",
    "stacked = df.stack()\n",
    "print(stacked)"
   ]
  },
  {
   "cell_type": "code",
   "execution_count": 48,
   "id": "fc49d7b5",
   "metadata": {},
   "outputs": [
    {
     "name": "stdout",
     "output_type": "stream",
     "text": [
      "          NY   LA\n",
      "2023-01  100  150\n",
      "2023-02  200  250\n"
     ]
    }
   ],
   "source": [
    "unstacked = stacked.unstack()\n",
    "print(unstacked)"
   ]
  },
  {
   "cell_type": "markdown",
   "id": "f887ccca",
   "metadata": {},
   "source": [
    "Transposing (transpose or .T)<br>\n",
    "Flips rows and columns. Quick way to swap axes for small datasets or visualization."
   ]
  },
  {
   "cell_type": "code",
   "execution_count": 49,
   "id": "97e133b6",
   "metadata": {},
   "outputs": [
    {
     "name": "stdout",
     "output_type": "stream",
     "text": [
      "   0  1\n",
      "A  1  2\n",
      "B  3  4\n"
     ]
    }
   ],
   "source": [
    "df = pd.DataFrame({\n",
    "    \"A\": [1, 2],\n",
    "    \"B\": [3, 4]\n",
    "})\n",
    "print(df.T)"
   ]
  },
  {
   "cell_type": "markdown",
   "id": "0d3657fb",
   "metadata": {},
   "source": [
    "### When to Use Reshaping\n",
    "Pivoting: When you need a summary table (e.g., sales by city over time).<br>\n",
    "<br>\n",
    "Melting: When preparing data for tools that expect long-format data (e.g., plotting libraries like seaborn).<br>\n",
    "<br>\n",
    "Stack/Unstack: When working with hierarchical data or multi-index DataFrames.<br>\n",
    "<br>\n",
    "Transpose: For simple row-column swaps."
   ]
  },
  {
   "cell_type": "markdown",
   "id": "4265c836",
   "metadata": {},
   "source": [
    "### Key Notes\n",
    "Data Format: Pivoting creates wide formats; melting creates long formats. Choose based on your analysis needs.\n",
    "\n",
    "Performance: Reshaping can be memory-intensive for large datasets, so ensure your DataFrame is clean (e.g., no duplicates unless handled).\n",
    "\n",
    "Index Awareness: Methods like pivot and unstack rely on the index, so set it appropriately (e.g., df.set_index())."
   ]
  },
  {
   "cell_type": "markdown",
   "id": "cffd997a",
   "metadata": {},
   "source": []
  }
 ],
 "metadata": {
  "kernelspec": {
   "display_name": "Python 3",
   "language": "python",
   "name": "python3"
  },
  "language_info": {
   "codemirror_mode": {
    "name": "ipython",
    "version": 3
   },
   "file_extension": ".py",
   "mimetype": "text/x-python",
   "name": "python",
   "nbconvert_exporter": "python",
   "pygments_lexer": "ipython3",
   "version": "3.13.3"
  }
 },
 "nbformat": 4,
 "nbformat_minor": 5
}
